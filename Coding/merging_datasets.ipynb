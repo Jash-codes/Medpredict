{
 "cells": [
  {
   "cell_type": "code",
   "execution_count": null,
   "id": "76bbef97-d1ae-4339-84f8-beb3e0dc0c7b",
   "metadata": {},
   "outputs": [],
   "source": [
    "mport pandas as pd\n",
    "import numpy as np"
   ]
  },
  {
   "cell_type": "code",
   "execution_count": null,
   "id": "d9909edc-09f3-4b0c-8440-670c49814bab",
   "metadata": {},
   "outputs": [],
   "source": [
    "# File paths for all 10 disease datasets\n",
    "file_paths = {\n",
    "    \"Anemia\": \"/mnt/data/Anemia Dataset.csv\",\n",
    "    \"Diabetes\": \"/mnt/data/Diabetes dataset.csv\",\n",
    "    \"Fatty Liver\": \"/mnt/data/Fatty liver Disease Dataset.csv\",\n",
    "    \"Heart Disease\": \"/mnt/data/Heart Dataset.csv\",\n",
    "    \"Hypertension\": \"/mnt/data/Hypertension Dataset.csv\",\n",
    "    \"Kidney Disease\": \"/mnt/data/Kidney Disease dataset.csv\",\n",
    "    \"Lung Cancer\": \"/mnt/data/Lung Cancer dataset.csv\",\n",
    "    \"Obesity\": \"/mnt/data/Obesity DataSet.csv\",\n",
    "    \"Stroke\": \"/mnt/data/Stroke dataset.csv\",\n",
    "    \"Thyroid\": \"/mnt/data/Thyroid Dataset.csv\"\n",
    "}"
   ]
  },
  {
   "cell_type": "code",
   "execution_count": null,
   "id": "79b3c3fa-ff2e-4a83-9e95-426668fea091",
   "metadata": {},
   "outputs": [],
   "source": [
    "raw_dfs = {disease: pd.read_csv(path) for disease, path in file_paths.items()}\n",
    "\n",
    "column_mapping_fixed = {\n",
    "    \"Anemia\": {\"Hb\": \"Hemoglobin\", \"MCH\": \"MCH\", \"MCHC\": \"MCHC\", \"MCV\": \"MCV\", \"Anemia_Label\": \"Anemia\"},\n",
    "    \"Diabetes\": {\"Diabetes_Outcome\": \"Diabetes\"},\n",
    "    \"Fatty Liver\": {\"Fatty_Liver\": \"Fatty Liver\"},\n",
    "    \"Heart Disease\": {\"HeartDiseaseorAttack\": \"Heart Disease\"},\n",
    "    \"Hypertension\": {\"HighBP\": \"Hypertension\"},\n",
    "    \"Kidney Disease\": {\"Kidney_Label\": \"Kidney Disease\"},\n",
    "    \"Lung Cancer\": {\"Lung_Cancer\": \"Lung Cancer\"},\n",
    "    \"Obesity\": {\"Obesity_Level\": \"Obesity\"},\n",
    "    \"Stroke\": {\"Stroke_Label\": \"Stroke\"},\n",
    "    \"Thyroid\": {\"Thyroid_Status\": \"Thyroid\"}\n",
    "}"
   ]
  },
  {
   "cell_type": "code",
   "execution_count": null,
   "id": "ca7c818d-1091-4eb1-b80d-7c6f82b6d423",
   "metadata": {},
   "outputs": [],
   "source": [
    "fixed_dfs = {}\n",
    "for disease, df in raw_dfs.items():\n",
    "    df = df.rename(columns=column_mapping_fixed.get(disease, {}))\n",
    "    fixed_dfs[disease] = df"
   ]
  },
  {
   "cell_type": "code",
   "execution_count": null,
   "id": "60675a79-6d86-4367-86fc-1979f8c5ff9e",
   "metadata": {},
   "outputs": [],
   "source": [
    "for disease, df in fixed_dfs.items():\n",
    "    if \"Gender\" not in df.columns:\n",
    "        df[\"Gender\"] = \"Male\"  \n",
    "    if \"Age\" not in df.columns:\n",
    "        df[\"Age\"] = np.nan  \n",
    "    if \"BMI\" not in df.columns:\n",
    "        df[\"BMI\"] = np.nan  \n",
    "    fixed_dfs[disease] = df"
   ]
  },
  {
   "cell_type": "code",
   "execution_count": null,
   "id": "cd79af0d-8fe7-4a3a-a13b-9c19ac889ceb",
   "metadata": {},
   "outputs": [],
   "source": [
    "for df in fixed_dfs.values():\n",
    "    df[\"Age\"] = df[\"Age\"].astype(float)  \n",
    "    df[\"Gender\"] = df[\"Gender\"].astype(str)  \n",
    "    df[\"BMI\"] = df[\"BMI\"].astype(float)  "
   ]
  },
  {
   "cell_type": "code",
   "execution_count": null,
   "id": "ecb19a97-b02e-422c-9e68-46c54165ab1a",
   "metadata": {},
   "outputs": [],
   "source": [
    "merged_df = list(fixed_dfs.values())[0]\n",
    "for df in list(fixed_dfs.values())[1:]:\n",
    "    merged_df = pd.merge(merged_df, df, on=[\"Age\", \"Gender\", \"BMI\"], how=\"outer\")"
   ]
  },
  {
   "cell_type": "code",
   "execution_count": null,
   "id": "a61f04c0-45ed-4ea8-9466-ef7dc029445b",
   "metadata": {},
   "outputs": [],
   "source": [
    "merged_df.fillna(merged_df.mean(numeric_only=True), inplace=True)"
   ]
  },
  {
   "cell_type": "code",
   "execution_count": null,
   "id": "bc8e04b6-05b4-45bf-acea-91f4656377ad",
   "metadata": {},
   "outputs": [],
   "source": [
    "merged_file_path = \"/mnt/data/Merged_MedPredict_Dataset.csv\"\n",
    "merged_df.to_csv(merged_file_path, index=False)"
   ]
  },
  {
   "cell_type": "code",
   "execution_count": null,
   "id": "12701573-1916-4a1f-873f-f16aed488147",
   "metadata": {},
   "outputs": [],
   "source": [
    "print(f\"Final dataset saved at: {merged_file_path}\")"
   ]
  }
 ],
 "metadata": {
  "kernelspec": {
   "display_name": "Python 3 (ipykernel)",
   "language": "python",
   "name": "python3"
  },
  "language_info": {
   "codemirror_mode": {
    "name": "ipython",
    "version": 3
   },
   "file_extension": ".py",
   "mimetype": "text/x-python",
   "name": "python",
   "nbconvert_exporter": "python",
   "pygments_lexer": "ipython3",
   "version": "3.12.4"
  }
 },
 "nbformat": 4,
 "nbformat_minor": 5
}
